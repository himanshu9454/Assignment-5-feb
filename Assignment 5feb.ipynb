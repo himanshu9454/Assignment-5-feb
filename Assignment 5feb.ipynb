{
 "cells": [
  {
   "cell_type": "markdown",
   "id": "ab4b2900-94dc-4e0c-b072-399630773fcd",
   "metadata": {},
   "source": [
    "#Q1. Explain Class and Object with respect to Object-Oriented Programming. Give a suitable example."
   ]
  },
  {
   "cell_type": "markdown",
   "id": "606d7056-3171-445a-8fd8-de05930ce327",
   "metadata": {},
   "source": [
    "Ans = Class= In object oriented programming , a class is a template definition of the method s and varaiable s in a particuler\n",
    "kind of object. Thus , an object is a specific instance of a class ; it contains real values instead of variables. Theclass is one of the defining\n",
    "ideas of object- oriented programming.\n",
    "\n",
    "Object = An object can be defined as a data field that has unique attributes amd behavior. OOP focuses on the objects that developers want to \n",
    "manipulate rather than the logic required to manipulate them. This approach to programming is well-suited for programs that are large, complex and \n",
    "actively updated or maintained."
   ]
  },
  {
   "cell_type": "code",
   "execution_count": 2,
   "id": "f31713f8-1e1d-4994-a961-94671059805f",
   "metadata": {},
   "outputs": [],
   "source": [
    "#Example: create a class named MyClass , with a property named x:\n",
    "\n",
    "class MyClass:\n",
    "    x=5\n",
    "\n"
   ]
  },
  {
   "cell_type": "markdown",
   "id": "2715793b-80cd-4ce6-9728-27e0a0da3220",
   "metadata": {},
   "source": [
    "#Example: create an object named p1, and print the value of x:\n",
    "\n",
    "p1 = MyClass()\n",
    "print(p1.x)"
   ]
  },
  {
   "cell_type": "code",
   "execution_count": null,
   "id": "7427c63a-c96f-471b-8a85-9885a5cd64d7",
   "metadata": {},
   "outputs": [],
   "source": []
  },
  {
   "cell_type": "markdown",
   "id": "f82a94aa-ff2f-4d4c-b8a1-ade8842dedb4",
   "metadata": {},
   "source": [
    "#Q2. Name the four pillars of OOPs?"
   ]
  },
  {
   "cell_type": "markdown",
   "id": "9feb7f1f-30ad-4076-8661-3b7a3182c250",
   "metadata": {},
   "source": [
    "Ans= Name the four pillars of OOPs are - \n",
    "1. Inheritance ,2. Polymorphism ,  3.Encapsulation ,  4. Abstraction"
   ]
  },
  {
   "cell_type": "code",
   "execution_count": null,
   "id": "b800551e-4b47-45d5-962c-438434016adc",
   "metadata": {},
   "outputs": [],
   "source": []
  },
  {
   "cell_type": "markdown",
   "id": "669f7884-a58b-4bbd-bc91-ccd82fe3627d",
   "metadata": {},
   "source": [
    "#Q3. Explain why the __init__() function is used. Give a suitable example."
   ]
  },
  {
   "cell_type": "code",
   "execution_count": null,
   "id": "4f8f30d3-2729-4841-80a8-f4d18f1d9535",
   "metadata": {},
   "outputs": [],
   "source": [
    "Ans = \"__init__ \"is a reseved method in python classes . It is called as a constructor in object oriented terminology. This method is called when\n",
    "an object is created from a class and it allows the class to initialize the attributes of the class."
   ]
  },
  {
   "cell_type": "code",
   "execution_count": null,
   "id": "854dff80-6843-4479-95dd-e3bea9dbc3f3",
   "metadata": {},
   "outputs": [],
   "source": []
  },
  {
   "cell_type": "markdown",
   "id": "15ba97c7-a5ee-4866-97e0-9a787bfd441e",
   "metadata": {},
   "source": [
    "#Q4. Why self is used in OOPs?"
   ]
  },
  {
   "cell_type": "markdown",
   "id": "f68e0c26-58d3-4f93-8c8a-8dad47b7d0f6",
   "metadata": {},
   "source": [
    "Ans = The self parameter is a reference to the current instance of the class , and is used to acces variable that belongs to the class. It does not \n",
    "have to named self, you can call it whatever you like , but has to be the first parameter of any function in the class."
   ]
  },
  {
   "cell_type": "markdown",
   "id": "fc79accb-dd13-46d8-b761-845a2bdcc289",
   "metadata": {},
   "source": [
    "#Q5. What is inheritance? Give an example for each type of inheritance?"
   ]
  },
  {
   "cell_type": "markdown",
   "id": "00ea1676-64d9-4ad7-9a8d-fd57210dbb96",
   "metadata": {},
   "source": [
    "Inheritance allows us to define a class that inherits all the methods and properties from another class.\n",
    "There are five types of inheritances:\n",
    "1.Single Inheritance\n",
    "2.Multiple Inheritance\n",
    "3.Multilevel Inheritance\n",
    "4.Hierarchical Inheritance\n",
    "5.Hybrid Inheritance"
   ]
  },
  {
   "cell_type": "code",
   "execution_count": 7,
   "id": "f850f3c4-5de2-4ad9-8170-6ff437e3e073",
   "metadata": {},
   "outputs": [
    {
     "name": "stdout",
     "output_type": "stream",
     "text": [
      "Hey there, you are in the parent class\n",
      "Hey there , you are in the sub class\n",
      "Hey there, you are in the parent class\n",
      "10\n",
      "5\n"
     ]
    }
   ],
   "source": [
    "#1.Single Inheritance\n",
    "#parent class \n",
    "class above :\n",
    "    i = 5\n",
    "    def fun1(self):\n",
    "        print(\"Hey there, you are in the parent class\")\n",
    "        \n",
    "#subclass\n",
    "class below(above):\n",
    "    i = 10\n",
    "    def fun2(self):\n",
    "        print(\"Hey there , you are in the sub class\")\n",
    "temp1 = below()\n",
    "temp2 = above()\n",
    "temp1.fun1()\n",
    "temp1.fun2()\n",
    "temp2.fun1()\n",
    "print(temp1.i)\n",
    "print(temp2.i)"
   ]
  },
  {
   "cell_type": "code",
   "execution_count": 10,
   "id": "d633c551-52a1-4d43-813e-bd6cb5b51ae6",
   "metadata": {},
   "outputs": [
    {
     "name": "stdout",
     "output_type": "stream",
     "text": [
      "electric car runs on electricity\n",
      "a car has 4 wheels\n",
      "vehicles are used for transportation\n"
     ]
    }
   ],
   "source": [
    "#2. Multilevel Inheritance\n",
    "#parent class1\n",
    "class vehicle:\n",
    "    def functioning(self):\n",
    "        print(\"vehicles are used for transportation\")\n",
    "        \n",
    "#child class1\n",
    "class car(vehicle):\n",
    "    def wheels(self):\n",
    "        print(\"a car has 4 wheels\")\n",
    "        \n",
    "#child class2\n",
    "class electric_car (car):\n",
    "    def speciality(self):\n",
    "        print(\"electric car runs on electricity\")\n",
    "\n",
    "electric = electric_car()\n",
    "electric.speciality()\n",
    "electric.wheels()\n",
    "electric.functioning()"
   ]
  },
  {
   "cell_type": "code",
   "execution_count": 13,
   "id": "ab1323b9-b676-4fca-9f75-1af3f795faf3",
   "metadata": {},
   "outputs": [
    {
     "name": "stdout",
     "output_type": "stream",
     "text": [
      "Hey there, you are in the parent class\n",
      "Hey there,you are in the child class3\n",
      "Hey there, you are in the parent class\n",
      "Hey there,you are in the child class2\n",
      "Hey there, you are in the parent class\n",
      "Hey there, you are in the child class 1\n"
     ]
    }
   ],
   "source": [
    "#Hilerarchical Inheritance\n",
    "#parent class\n",
    "class parent:\n",
    "    def fun1(self):\n",
    "        print(\"Hey there, you are in the parent class\")\n",
    "        \n",
    "#child class1\n",
    "class child1(parent):\n",
    "    def fun2(self):\n",
    "        print(\"Hey there, you are in the child class 1\")\n",
    "        \n",
    "#child class2\n",
    "class child2(parent):\n",
    "    def fun3(self):\n",
    "        print(\"Hey there,you are in the child class2\")\n",
    "        \n",
    "#child class3\n",
    "class child3(parent):\n",
    "    def fun4(self):\n",
    "        print(\"Hey there,you are in the child class3\")\n",
    "        \n",
    "#main program\n",
    "child_obj1 = child3()\n",
    "child_obj2 = child2()\n",
    "child_obj3 = child1()\n",
    "child_obj1.fun1()\n",
    "child_obj1.fun4()\n",
    "child_obj2.fun1()\n",
    "child_obj2.fun3()\n",
    "child_obj3.fun1()\n",
    "child_obj3.fun2()"
   ]
  },
  {
   "cell_type": "code",
   "execution_count": 15,
   "id": "75419fdd-0ee8-4fd3-bc8d-2d681935b27c",
   "metadata": {},
   "outputs": [
    {
     "ename": "SyntaxError",
     "evalue": "invalid syntax (2322362704.py, line 4)",
     "output_type": "error",
     "traceback": [
      "\u001b[0;36m  Cell \u001b[0;32mIn[15], line 4\u001b[0;36m\u001b[0m\n\u001b[0;31m    print(\"Hey there , you are in class A\")class B(A):\u001b[0m\n\u001b[0m                                           ^\u001b[0m\n\u001b[0;31mSyntaxError\u001b[0m\u001b[0;31m:\u001b[0m invalid syntax\n"
     ]
    }
   ],
   "source": [
    "#Hybrid Inheritance\n",
    "class A:\n",
    "    def fun1(self):\n",
    "        print(\"Hey there , you are in class A\")class B(A):\n",
    "            def fun2(self):\n",
    "                print(\"Hey there , you are in classB\")class C(A):\n",
    "                    def fun3(self):\n",
    "                    print(\"Hey there , you are in class C\")class D(C,A):\n",
    "                        def fun4(self):\n",
    "                            print(\"Hey there , you are in the class D\")\n",
    "ref = D()\n",
    "ref.fun4()\n",
    "ref.fun3()\n",
    "ref.fun1()"
   ]
  },
  {
   "cell_type": "code",
   "execution_count": null,
   "id": "ab98075f-0caa-4bd0-8720-83207b6c1be2",
   "metadata": {},
   "outputs": [],
   "source": []
  }
 ],
 "metadata": {
  "kernelspec": {
   "display_name": "Python 3 (ipykernel)",
   "language": "python",
   "name": "python3"
  },
  "language_info": {
   "codemirror_mode": {
    "name": "ipython",
    "version": 3
   },
   "file_extension": ".py",
   "mimetype": "text/x-python",
   "name": "python",
   "nbconvert_exporter": "python",
   "pygments_lexer": "ipython3",
   "version": "3.10.8"
  }
 },
 "nbformat": 4,
 "nbformat_minor": 5
}
